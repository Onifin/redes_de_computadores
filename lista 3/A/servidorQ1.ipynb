{
 "cells": [
  {
   "cell_type": "code",
   "execution_count": null,
   "id": "dab8c82e",
   "metadata": {},
   "outputs": [],
   "source": []
  },
  {
   "cell_type": "code",
   "execution_count": null,
   "id": "81299cc1",
   "metadata": {},
   "outputs": [],
   "source": []
  },
  {
   "cell_type": "code",
   "execution_count": null,
   "id": "a8e0b2df",
   "metadata": {},
   "outputs": [
    {
     "name": "stdout",
     "output_type": "stream",
     "text": [
      "Servidor UDP esperando conexoes na porta 61000 ...\n",
      "Cliente ('127.0.0.1', 54398) enviou: teste, que não é um comando válido\n"
     ]
    }
   ],
   "source": [
    "from socket import * \n",
    "import time\n",
    "\n",
    "serverName = '' # ip do servidor (em branco)\n",
    "serverPort = 61000 # porta a se conectar\n",
    "serverSocket = socket(AF_INET, SOCK_DGRAM) # criacao do socket UDP\n",
    "serverSocket.bind((serverName, serverPort)) # bind do ip do servidor com a porta\n",
    "print ('Servidor UDP esperando conexoes na porta %d ...' % (serverPort))\n",
    "\n",
    "while 1:\n",
    "    message, clientAddress = serverSocket.recvfrom(2048) # recebe do cliente\n",
    "    message = message.decode('utf-8')\n",
    "    \n",
    "    if(message == \"data\"):\n",
    "        data = str(time.ctime())\n",
    "        print ('Cliente %s enviou: %s, transformando em: %s' % (clientAddress, message, data))\n",
    "        serverSocket.sendto(data.encode('utf-8'), clientAddress) \n",
    "    else:\n",
    "        print ('Cliente %s enviou: %s, que não é um comando válido' % (clientAddress, message))\n",
    "        message = message + \" não é um comando válido\"\n",
    "        serverSocket.sendto(message.encode('utf-8'), clientAddress)\n",
    "        \n",
    "serverSocket.close() # encerra o socket do servidor"
   ]
  },
  {
   "cell_type": "code",
   "execution_count": null,
   "id": "8469257a",
   "metadata": {},
   "outputs": [],
   "source": []
  }
 ],
 "metadata": {
  "kernelspec": {
   "display_name": "Python 3 (ipykernel)",
   "language": "python",
   "name": "python3"
  },
  "language_info": {
   "codemirror_mode": {
    "name": "ipython",
    "version": 3
   },
   "file_extension": ".py",
   "mimetype": "text/x-python",
   "name": "python",
   "nbconvert_exporter": "python",
   "pygments_lexer": "ipython3",
   "version": "3.9.13"
  }
 },
 "nbformat": 4,
 "nbformat_minor": 5
}
