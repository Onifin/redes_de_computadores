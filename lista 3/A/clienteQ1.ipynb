{
 "cells": [
  {
   "cell_type": "code",
   "execution_count": 3,
   "id": "14610b84",
   "metadata": {},
   "outputs": [
    {
     "name": "stdout",
     "output_type": "stream",
     "text": [
      "Digite o comando: teste\n",
      "O servidor ('localhost', 61000) respondeu com: teste não é um comando válido\n"
     ]
    }
   ],
   "source": [
    "from socket import *\n",
    "# definicao das variaveis\n",
    "serverName = 'localhost' # ip do servidor a se conectar\n",
    "serverPort = 61000 # porta a se conectar\n",
    "clientSocket = socket(AF_INET, SOCK_DGRAM) # criacao do socket UDP\n",
    "\n",
    "message = input('Digite o comando: ')\n",
    "clientSocket.sendto(message.encode('utf-8'),(serverName, serverPort)) # envia mensagem para o servidor\n",
    "modifiedMessage, serverAddress = clientSocket.recvfrom(2048) # recebe do servidor a resposta\n",
    "print ('O servidor (\\'%s\\', %d) respondeu com: %s' % (serverName, serverPort, modifiedMessage.decode('utf-8')))\n",
    "clientSocket.close() # encerra o socket do cliente"
   ]
  },
  {
   "cell_type": "code",
   "execution_count": null,
   "id": "64fe4e87",
   "metadata": {},
   "outputs": [],
   "source": []
  },
  {
   "cell_type": "code",
   "execution_count": null,
   "id": "be2ee674",
   "metadata": {},
   "outputs": [],
   "source": []
  },
  {
   "cell_type": "code",
   "execution_count": null,
   "id": "62a45a1b",
   "metadata": {},
   "outputs": [],
   "source": []
  }
 ],
 "metadata": {
  "kernelspec": {
   "display_name": "Python 3 (ipykernel)",
   "language": "python",
   "name": "python3"
  },
  "language_info": {
   "codemirror_mode": {
    "name": "ipython",
    "version": 3
   },
   "file_extension": ".py",
   "mimetype": "text/x-python",
   "name": "python",
   "nbconvert_exporter": "python",
   "pygments_lexer": "ipython3",
   "version": "3.9.13"
  }
 },
 "nbformat": 4,
 "nbformat_minor": 5
}
