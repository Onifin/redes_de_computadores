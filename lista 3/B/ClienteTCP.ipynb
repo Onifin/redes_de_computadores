{
 "cells": [
  {
   "cell_type": "code",
   "execution_count": 6,
   "id": "b6fe9fac",
   "metadata": {},
   "outputs": [
    {
     "name": "stdout",
     "output_type": "stream",
     "text": [
      "Digite o texto em letras minusculas: obter arquivo.txt\n",
      "O servidor ('localhost', 61000) respondeu com: Misturar, misturar, girar, mexer\n"
     ]
    }
   ],
   "source": [
    "# UNIVERSIDADE FEDERAL DO RIO GRANDE DO NORTE\n",
    "# DEPARTAMENTO DE ENGENHARIA DE COMPUTACAO E AUTOMACAO\n",
    "# DISCIPLINA REDES DE COMPUTADORES (DCA0113)\n",
    "# AUTOR: PROF. CARLOS M D VIEGAS (viegas 'at' dca.ufrn.br)\n",
    "#\n",
    "# SCRIPT: Cliente de sockets TCP modificado para enviar texto minusculo ao servidor e aguardar resposta em maiuscula (python 3)\n",
    "#\n",
    "\n",
    "# importacao das bibliotecas\n",
    "from socket import *\n",
    "\n",
    "# definicao das variaveis\n",
    "serverName = 'localhost' # ip do servidor\n",
    "serverPort = 61000 # porta a se conectar\n",
    "clientSocket = socket(AF_INET,SOCK_STREAM) # criacao do socket TCP\n",
    "clientSocket.connect((serverName, serverPort)) # conecta o socket ao servidor\n",
    "\n",
    "sentence = input('Digite o texto em letras minusculas: ')\n",
    "clientSocket.send(sentence.encode('utf-8')) # envia o texto para o servidor\n",
    "modifiedSentence = clientSocket.recv(1024) # recebe do servidor a resposta\n",
    "print ('O servidor (\\'%s\\', %d) respondeu com: %s' % (serverName, serverPort, modifiedSentence.decode('utf-8')))\n",
    "clientSocket.close() # encerramento o socket do cliente"
   ]
  },
  {
   "cell_type": "code",
   "execution_count": null,
   "id": "c227ed65",
   "metadata": {},
   "outputs": [],
   "source": []
  }
 ],
 "metadata": {
  "kernelspec": {
   "display_name": "Python 3 (ipykernel)",
   "language": "python",
   "name": "python3"
  },
  "language_info": {
   "codemirror_mode": {
    "name": "ipython",
    "version": 3
   },
   "file_extension": ".py",
   "mimetype": "text/x-python",
   "name": "python",
   "nbconvert_exporter": "python",
   "pygments_lexer": "ipython3",
   "version": "3.9.13"
  }
 },
 "nbformat": 4,
 "nbformat_minor": 5
}
