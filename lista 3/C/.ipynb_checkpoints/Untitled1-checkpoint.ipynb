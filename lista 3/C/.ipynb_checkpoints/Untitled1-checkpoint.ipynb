{
 "cells": [
  {
   "cell_type": "code",
   "execution_count": 4,
   "id": "68aed739",
   "metadata": {},
   "outputs": [
    {
     "name": "stdout",
     "output_type": "stream",
     "text": [
      "Digite o texto em letras minusculas: ipconfig\n",
      "O servidor ('localhost', 61000) respondeu com: \n",
      "Configura‡Æo de IP do Windows\n",
      "\n",
      "\n",
      "Adaptador de Rede sem Fio ConexÆo Local* 1:\n",
      "\n",
      "   Estado da m¡dia. . . . . . . . . . . . . .  : m¡dia desconectada\n",
      "   Sufixo DNS espec¡fico de conexÆo. . . . . . : \n",
      "\n",
      "Adaptador de Rede sem Fio Wi-Fi:\n",
      "\n",
      "   Sufixo DNS espec¡fico de conexÆo. . . . . . : wifiect.ufrn.br\n",
      "   Endere‡o IPv6 . . . . . . . . . . : 2801:8c:6:a4:fb9d:30d5:bbf3:6f06\n",
      "   Endere‡o IPv6 de link local . . . . . . . . : fe80::f526:14a7:f1e8:5234%6\n",
      "   Endere‡o IPv4. . . . . . . .  . . . . . . . : 10.50.65.11\n",
      "   M scara de Sub-rede . . . . . . . . . . . . : 255.255.248.0\n",
      "   Gateway PadrÆo. . . . . . . . . . . . . . . : fe80::d27e:28ff:fe2d:aecc%6\n",
      "                                                 10.50.64.1\n",
      "\n",
      "Adaptador Ethernet ConexÆo de Rede Bluetooth:\n",
      "\n",
      "   Estado da m¡dia. . . . . . . . . . . . . .  : m¡dia desconectada\n",
      "   Sufixo DNS espec¡fico de conexÆo. . . . . . : \n",
      "\n"
     ]
    }
   ],
   "source": [
    "# UNIVERSIDADE FEDERAL DO RIO GRANDE DO NORTE\n",
    "# DEPARTAMENTO DE ENGENHARIA DE COMPUTACAO E AUTOMACAO\n",
    "# DISCIPLINA REDES DE COMPUTADORES (DCA0113)\n",
    "# AUTOR: PROF. CARLOS M D VIEGAS (viegas 'at' dca.ufrn.br)\n",
    "#\n",
    "# SCRIPT: Cliente de sockets TCP modificado para enviar texto minusculo ao servidor e aguardar resposta em maiuscula (python 3)\n",
    "#\n",
    "\n",
    "# importacao das bibliotecas\n",
    "from socket import *\n",
    "\n",
    "# definicao das variaveis\n",
    "serverName = 'localhost' # ip do servidor\n",
    "serverPort = 61000 # porta a se conectar\n",
    "clientSocket = socket(AF_INET,SOCK_STREAM) # criacao do socket TCP\n",
    "clientSocket.connect((serverName, serverPort)) # conecta o socket ao servidor\n",
    "\n",
    "sentence = input('Digite o texto em letras minusculas: ')\n",
    "clientSocket.send(sentence.encode('utf-8')) # envia o texto para o servidor\n",
    "modifiedSentence = clientSocket.recv(1024) # recebe do servidor a resposta\n",
    "print ('O servidor (\\'%s\\', %d) respondeu com: %s' % (serverName, serverPort, modifiedSentence.decode('utf-8')))\n",
    "clientSocket.close() # encerramento o socket do cliente\n"
   ]
  },
  {
   "cell_type": "code",
   "execution_count": null,
   "id": "5d0492ce",
   "metadata": {},
   "outputs": [],
   "source": []
  },
  {
   "cell_type": "code",
   "execution_count": null,
   "id": "ef4c8ebf",
   "metadata": {},
   "outputs": [],
   "source": []
  }
 ],
 "metadata": {
  "kernelspec": {
   "display_name": "Python 3 (ipykernel)",
   "language": "python",
   "name": "python3"
  },
  "language_info": {
   "codemirror_mode": {
    "name": "ipython",
    "version": 3
   },
   "file_extension": ".py",
   "mimetype": "text/x-python",
   "name": "python",
   "nbconvert_exporter": "python",
   "pygments_lexer": "ipython3",
   "version": "3.9.13"
  }
 },
 "nbformat": 4,
 "nbformat_minor": 5
}
