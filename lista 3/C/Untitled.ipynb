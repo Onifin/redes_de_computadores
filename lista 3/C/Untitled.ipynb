{
 "cells": [
  {
   "cell_type": "code",
   "execution_count": null,
   "id": "4f419e1f",
   "metadata": {
    "scrolled": true
   },
   "outputs": [
    {
     "name": "stdout",
     "output_type": "stream",
     "text": [
      "Servidor TCP esperando conexoes na porta 61000 ...\n"
     ]
    }
   ],
   "source": [
    "# UNIVERSIDADE FEDERAL DO RIO GRANDE DO NORTE\n",
    "# DEPARTAMENTO DE ENGENHARIA DE COMPUTACAO E AUTOMACAO\n",
    "# DISCIPLINA REDES DE COMPUTADORES (DCA0113)\n",
    "# AUTOR: PROF. CARLOS M D VIEGAS (viegas 'at' dca.ufrn.br)\n",
    "#\n",
    "# SCRIPT: Servidor de sockets TCP modificado para receber texto minusculo do cliente enviar resposta em maiuscula  (python 3)\n",
    "#\n",
    "\n",
    "# importacao das bibliotecas\n",
    "from socket import * # sockets\n",
    "import subprocess\n",
    "\n",
    "# definicao das variaveis\n",
    "serverName = '' # ip do servidor (em branco)\n",
    "serverPort = 61000 # porta a se conectar\n",
    "serverSocket = socket(AF_INET,SOCK_STREAM) # criacao do socket TCP\n",
    "serverSocket.bind((serverName,serverPort)) # bind do ip do servidor com a porta\n",
    "serverSocket.listen(1) # socket pronto para 'ouvir' conexoes\n",
    "print ('Servidor TCP esperando conexoes na porta %d ...' % (serverPort))\n",
    "while 1:\n",
    "  connectionSocket, addr = serverSocket.accept() # aceita as conexoes dos clientes\n",
    "  sentence = connectionSocket.recv(1024) # recebe dados do cliente\n",
    "  sentence = sentence.decode('utf-8')\n",
    "\n",
    "  py2output = subprocess.check_output(sentence, shell=True, universal_newlines=True, stderr=subprocess.STDOUT)\n",
    "  \n",
    "  connectionSocket.send(py2output.encode('utf-8')) # envia para o cliente o texto transformado\n",
    "  connectionSocket.close() # encerra o socket com o cliente\n",
    "serverSocket.close() # encerra o socket do servidor"
   ]
  },
  {
   "cell_type": "code",
   "execution_count": null,
   "id": "ad1fb3b9",
   "metadata": {},
   "outputs": [],
   "source": []
  }
 ],
 "metadata": {
  "kernelspec": {
   "display_name": "Python 3 (ipykernel)",
   "language": "python",
   "name": "python3"
  },
  "language_info": {
   "codemirror_mode": {
    "name": "ipython",
    "version": 3
   },
   "file_extension": ".py",
   "mimetype": "text/x-python",
   "name": "python",
   "nbconvert_exporter": "python",
   "pygments_lexer": "ipython3",
   "version": "3.9.13"
  }
 },
 "nbformat": 4,
 "nbformat_minor": 5
}
